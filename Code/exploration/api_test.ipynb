{
 "cells": [
  {
   "cell_type": "code",
   "execution_count": 1,
   "id": "12bfa508-a4d2-46f0-88b0-0c7029db65c5",
   "metadata": {},
   "outputs": [],
   "source": [
    "import requests\n",
    "import pandas as pd\n",
    "import json"
   ]
  },
  {
   "cell_type": "code",
   "execution_count": 5,
   "id": "aae8d1aa-53b0-4ccc-be57-5bdcb3107507",
   "metadata": {},
   "outputs": [],
   "source": [
    "API_KEY = \"2c3aefdf275a880709916f968cc2e719-a8af221b3f9295362c08628b6e9e4f1b\"\n",
    "ACCOUNT_ID = \"101-001-26404107-001\"\n",
    "OANDA_URL = \"https://api-fxpractice.oanda.com/v3\""
   ]
  },
  {
   "cell_type": "code",
   "execution_count": 6,
   "id": "1bbfd095-15b6-4b28-ac37-5cc457fa4017",
   "metadata": {},
   "outputs": [],
   "source": [
    "session = requests.Session()"
   ]
  },
  {
   "cell_type": "code",
   "execution_count": 8,
   "id": "87fabad3-afbd-4ea7-9f07-7f6233f46529",
   "metadata": {},
   "outputs": [],
   "source": [
    "session.headers.update({\n",
    "    \"Authorization\": f\"Bearer {API_KEY}\",\n",
    "    \"Content-Type\": \"application/json\"\n",
    "})"
   ]
  },
  {
   "cell_type": "code",
   "execution_count": 10,
   "id": "3362a373-c990-4cba-9d49-af8d21dbc5ab",
   "metadata": {},
   "outputs": [],
   "source": [
    "params = dict(\n",
    "    count = 10,\n",
    "    granularity = \"H1\"\n",
    ")"
   ]
  },
  {
   "cell_type": "code",
   "execution_count": 11,
   "id": "d9d31f70-30c7-4b7e-af62-6f97effb65d9",
   "metadata": {},
   "outputs": [],
   "source": [
    "url = f\"{OANDA_URL}/instruments/EUR_USD/candles\""
   ]
  },
  {
   "cell_type": "code",
   "execution_count": 14,
   "id": "0d1c5874-1ced-4362-9e81-ba8c47f3d3cf",
   "metadata": {},
   "outputs": [],
   "source": [
    "response = session.get(url, params=params, data=None, headers=None)"
   ]
  },
  {
   "cell_type": "code",
   "execution_count": 15,
   "id": "daa04c31-e70c-4447-9cca-f7fcf5a80ec0",
   "metadata": {},
   "outputs": [
    {
     "data": {
      "text/plain": [
       "200"
      ]
     },
     "execution_count": 15,
     "metadata": {},
     "output_type": "execute_result"
    }
   ],
   "source": [
    "response.status_code"
   ]
  },
  {
   "cell_type": "code",
   "execution_count": 16,
   "id": "2e35d74a-63ff-4239-ac1d-8f639a85caef",
   "metadata": {},
   "outputs": [
    {
     "data": {
      "text/plain": [
       "{'instrument': 'EUR_USD',\n",
       " 'granularity': 'H1',\n",
       " 'candles': [{'complete': True,\n",
       "   'volume': 3794,\n",
       "   'time': '2023-07-31T10:00:00.000000000Z',\n",
       "   'mid': {'o': '1.10326', 'h': '1.10403', 'l': '1.10291', 'c': '1.10368'}},\n",
       "  {'complete': True,\n",
       "   'volume': 3807,\n",
       "   'time': '2023-07-31T11:00:00.000000000Z',\n",
       "   'mid': {'o': '1.10366', 'h': '1.10366', 'l': '1.10231', 'c': '1.10268'}},\n",
       "  {'complete': True,\n",
       "   'volume': 5418,\n",
       "   'time': '2023-07-31T12:00:00.000000000Z',\n",
       "   'mid': {'o': '1.10272', 'h': '1.10388', 'l': '1.10189', 'c': '1.10283'}},\n",
       "  {'complete': True,\n",
       "   'volume': 7253,\n",
       "   'time': '2023-07-31T13:00:00.000000000Z',\n",
       "   'mid': {'o': '1.10284', 'h': '1.10457', 'l': '1.10148', 'c': '1.10376'}},\n",
       "  {'complete': True,\n",
       "   'volume': 8167,\n",
       "   'time': '2023-07-31T14:00:00.000000000Z',\n",
       "   'mid': {'o': '1.10376', 'h': '1.10459', 'l': '1.10223', 'c': '1.10252'}},\n",
       "  {'complete': True,\n",
       "   'volume': 5537,\n",
       "   'time': '2023-07-31T15:00:00.000000000Z',\n",
       "   'mid': {'o': '1.10251', 'h': '1.10298', 'l': '1.10122', 'c': '1.10186'}},\n",
       "  {'complete': True,\n",
       "   'volume': 3069,\n",
       "   'time': '2023-07-31T16:00:00.000000000Z',\n",
       "   'mid': {'o': '1.10184', 'h': '1.10202', 'l': '1.10040', 'c': '1.10071'}},\n",
       "  {'complete': True,\n",
       "   'volume': 2524,\n",
       "   'time': '2023-07-31T17:00:00.000000000Z',\n",
       "   'mid': {'o': '1.10071', 'h': '1.10114', 'l': '1.10040', 'c': '1.10048'}},\n",
       "  {'complete': True,\n",
       "   'volume': 3029,\n",
       "   'time': '2023-07-31T18:00:00.000000000Z',\n",
       "   'mid': {'o': '1.10047', 'h': '1.10081', 'l': '1.09976', 'c': '1.09987'}},\n",
       "  {'complete': False,\n",
       "   'volume': 551,\n",
       "   'time': '2023-07-31T19:00:00.000000000Z',\n",
       "   'mid': {'o': '1.09988', 'h': '1.10008', 'l': '1.09976', 'c': '1.09996'}}]}"
      ]
     },
     "execution_count": 16,
     "metadata": {},
     "output_type": "execute_result"
    }
   ],
   "source": [
    "response.json()"
   ]
  },
  {
   "cell_type": "code",
   "execution_count": null,
   "id": "0680d860-118e-4ee3-904c-e6438be61682",
   "metadata": {},
   "outputs": [],
   "source": []
  }
 ],
 "metadata": {
  "kernelspec": {
   "display_name": "Python 3 (ipykernel)",
   "language": "python",
   "name": "python3"
  },
  "language_info": {
   "codemirror_mode": {
    "name": "ipython",
    "version": 3
   },
   "file_extension": ".py",
   "mimetype": "text/x-python",
   "name": "python",
   "nbconvert_exporter": "python",
   "pygments_lexer": "ipython3",
   "version": "3.11.4"
  }
 },
 "nbformat": 4,
 "nbformat_minor": 5
}
