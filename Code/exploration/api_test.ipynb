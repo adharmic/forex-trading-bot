{
 "cells": [
  {
   "cell_type": "code",
   "execution_count": 59,
   "id": "12bfa508-a4d2-46f0-88b0-0c7029db65c5",
   "metadata": {},
   "outputs": [],
   "source": [
    "import requests\n",
    "import pandas as pd\n",
    "import json\n",
    "from dateutil import parser"
   ]
  },
  {
   "cell_type": "code",
   "execution_count": 5,
   "id": "aae8d1aa-53b0-4ccc-be57-5bdcb3107507",
   "metadata": {},
   "outputs": [],
   "source": [
    "API_KEY = \"2c3aefdf275a880709916f968cc2e719-a8af221b3f9295362c08628b6e9e4f1b\"\n",
    "ACCOUNT_ID = \"101-001-26404107-001\"\n",
    "OANDA_URL = \"https://api-fxpractice.oanda.com/v3\""
   ]
  },
  {
   "cell_type": "code",
   "execution_count": 6,
   "id": "1bbfd095-15b6-4b28-ac37-5cc457fa4017",
   "metadata": {},
   "outputs": [],
   "source": [
    "session = requests.Session()"
   ]
  },
  {
   "cell_type": "code",
   "execution_count": 8,
   "id": "87fabad3-afbd-4ea7-9f07-7f6233f46529",
   "metadata": {},
   "outputs": [],
   "source": [
    "session.headers.update({\n",
    "    \"Authorization\": f\"Bearer {API_KEY}\",\n",
    "    \"Content-Type\": \"application/json\"\n",
    "})"
   ]
  },
  {
   "cell_type": "code",
   "execution_count": 17,
   "id": "3362a373-c990-4cba-9d49-af8d21dbc5ab",
   "metadata": {},
   "outputs": [],
   "source": [
    "params = dict(\n",
    "    count = 10,\n",
    "    granularity = \"H1\",\n",
    "    price = \"MBA\"\n",
    ")"
   ]
  },
  {
   "cell_type": "code",
   "execution_count": 25,
   "id": "d9d31f70-30c7-4b7e-af62-6f97effb65d9",
   "metadata": {},
   "outputs": [],
   "source": [
    "url = f\"{OANDA_URL}/accounts/{ACCOUNT_ID}/instruments\""
   ]
  },
  {
   "cell_type": "code",
   "execution_count": 26,
   "id": "0d1c5874-1ced-4362-9e81-ba8c47f3d3cf",
   "metadata": {},
   "outputs": [],
   "source": [
    "response = session.get(url, params=None, data=None, headers=None)"
   ]
  },
  {
   "cell_type": "code",
   "execution_count": 27,
   "id": "daa04c31-e70c-4447-9cca-f7fcf5a80ec0",
   "metadata": {},
   "outputs": [
    {
     "data": {
      "text/plain": [
       "200"
      ]
     },
     "execution_count": 27,
     "metadata": {},
     "output_type": "execute_result"
    }
   ],
   "source": [
    "response.status_code"
   ]
  },
  {
   "cell_type": "code",
   "execution_count": 29,
   "id": "2e35d74a-63ff-4239-ac1d-8f639a85caef",
   "metadata": {},
   "outputs": [],
   "source": [
    "data = response.json()"
   ]
  },
  {
   "cell_type": "code",
   "execution_count": 32,
   "id": "0680d860-118e-4ee3-904c-e6438be61682",
   "metadata": {},
   "outputs": [],
   "source": [
    "instruments_list = data['instruments']"
   ]
  },
  {
   "cell_type": "code",
   "execution_count": 33,
   "id": "fefcd64b-d920-4079-9b2d-0129a285fe58",
   "metadata": {},
   "outputs": [
    {
     "data": {
      "text/plain": [
       "dict_keys(['name', 'type', 'displayName', 'pipLocation', 'displayPrecision', 'tradeUnitsPrecision', 'minimumTradeSize', 'maximumTrailingStopDistance', 'minimumTrailingStopDistance', 'maximumPositionSize', 'maximumOrderUnits', 'marginRate', 'guaranteedStopLossOrderMode', 'tags', 'financing'])"
      ]
     },
     "execution_count": 33,
     "metadata": {},
     "output_type": "execute_result"
    }
   ],
   "source": [
    "instruments_list[0].keys()"
   ]
  },
  {
   "cell_type": "code",
   "execution_count": 34,
   "id": "c4dd1b6d-bcc4-46a1-b46d-9bb410c68968",
   "metadata": {},
   "outputs": [],
   "source": [
    "key_i = ['name', 'type', 'displayName', 'pipLocation', 'displayPrecision', 'tradeUnitsPrecision', 'marginRate']"
   ]
  },
  {
   "cell_type": "code",
   "execution_count": 36,
   "id": "4caa6184-96fd-4ca0-8795-b88aaa1a9d30",
   "metadata": {},
   "outputs": [],
   "source": [
    "instruments_dict = {}\n",
    "for i in instruments_list:\n",
    "    key = i['name']\n",
    "    instruments_dict[key] = {k: i[k] for k in key_i}"
   ]
  },
  {
   "cell_type": "code",
   "execution_count": 38,
   "id": "24c5e63b-a71c-4dcd-a8ca-00dba86d3975",
   "metadata": {},
   "outputs": [
    {
     "data": {
      "text/plain": [
       "{'name': 'USD_CAD',\n",
       " 'type': 'CURRENCY',\n",
       " 'displayName': 'USD/CAD',\n",
       " 'pipLocation': -4,\n",
       " 'displayPrecision': 5,\n",
       " 'tradeUnitsPrecision': 0,\n",
       " 'marginRate': '0.02'}"
      ]
     },
     "execution_count": 38,
     "metadata": {},
     "output_type": "execute_result"
    }
   ],
   "source": [
    "instruments_dict['USD_CAD']"
   ]
  },
  {
   "cell_type": "code",
   "execution_count": 39,
   "id": "70b2e456-5e13-4fb4-858a-4061d6801ed1",
   "metadata": {},
   "outputs": [],
   "source": [
    "with open(\"../data/instruments.json\", \"w\") as f:\n",
    "    f.write(json.dumps(instruments_dict, indent=2))"
   ]
  },
  {
   "cell_type": "code",
   "execution_count": 91,
   "id": "f827f6fb-4efe-4fa1-9e1e-c4f5b6e27221",
   "metadata": {},
   "outputs": [],
   "source": [
    "def fetch_candles(pair_name, count=10, granularity=\"H1\"):\n",
    "    url = f\"{OANDA_URL}/instruments/{pair_name}/candles\"\n",
    "    params = dict(\n",
    "        count = count,\n",
    "        granularity = granularity,\n",
    "        price = \"MBA\"\n",
    "    )\n",
    "    response = session.get(url, params=params, data=None, headers=None)\n",
    "    data = response.json()\n",
    "\n",
    "    if response.status_code == 200:\n",
    "        if 'candles' not in data:\n",
    "            data = []\n",
    "        else:\n",
    "            data = data['candles']\n",
    "    return response.status_code, data\n",
    "\n",
    "def get_candles_df(data):\n",
    "    if len(data) == 0:\n",
    "        return pd.DataFrame()\n",
    "    final_data = []\n",
    "    for candle in data:\n",
    "        if candle['complete'] == False:\n",
    "            continue\n",
    "        new_dict = {}\n",
    "        new_dict['time'] = parser.parse(candle['time'])\n",
    "        new_dict['volume'] = candle['volume']\n",
    "\n",
    "        prices = ['mid', 'bid', 'ask']\n",
    "        ohlc = ['o', 'h', 'l', 'c']\n",
    "        for p in prices:\n",
    "            for o in ohlc:\n",
    "                new_dict[f\"{p}_{o}\"] = float(candle[p][o])\n",
    "        \n",
    "        final_data.append(new_dict)\n",
    "    return pd.DataFrame.from_dict(final_data)\n",
    "\n",
    "def create_data_file(pair_name, count=10, granularity=\"H1\"):\n",
    "    code, data = fetch_candles(pair_name, count, granularity)\n",
    "    if code != 200:\n",
    "        print(\"Failed\", pair_name, data)\n",
    "        return\n",
    "    if len(data) == 0:\n",
    "        print(\"No candles\", pair_name)\n",
    "    candles_df = get_candles_df(data)\n",
    "    candles_df.to_pickle(f\"../data/{pair_name}_{granularity}.pkl\")\n",
    "    print(f\"{pair_name} {granularity} {candles_df.shape[0]} candles, {candles_df.time.min()} {candles_df.time.max()}\")"
   ]
  },
  {
   "cell_type": "code",
   "execution_count": 81,
   "id": "2e66bd1c-c9ab-4a1c-9231-6c0144c3e13d",
   "metadata": {},
   "outputs": [],
   "source": [
    "code, data = fetch_candles(\"EUR_USD\", count=10, granularity=\"H4\")\n",
    "candles_df = get_candles_df(data)"
   ]
  },
  {
   "cell_type": "code",
   "execution_count": 92,
   "id": "0edbec32-799b-49a3-9573-57e07417ea51",
   "metadata": {},
   "outputs": [
    {
     "name": "stdout",
     "output_type": "stream",
     "text": [
      "EUR_USD H4 9 candles, 2023-07-28 09:00:00+00:00 2023-07-31 17:00:00+00:00\n"
     ]
    }
   ],
   "source": [
    "create_data_file(\"EUR_USD\", count=10, granularity=\"H4\")"
   ]
  },
  {
   "cell_type": "code",
   "execution_count": 93,
   "id": "65d3da87-f5e4-46fe-9e2a-183a8eaadf4d",
   "metadata": {},
   "outputs": [],
   "source": [
    "our_curr = ['EUR', 'USD', 'GBP', 'JPY', 'CHF', 'NZD', 'CAD', 'AUD']"
   ]
  },
  {
   "cell_type": "code",
   "execution_count": 94,
   "id": "742e216d-1c07-498e-8c5b-4babf4cfddfe",
   "metadata": {},
   "outputs": [
    {
     "data": {
      "text/plain": [
       "dict_keys(['EUR_ZAR', 'EUR_CHF', 'USD_PLN', 'GBP_AUD', 'EUR_AUD', 'EUR_SGD', 'NZD_CAD', 'TRY_JPY', 'CAD_HKD', 'USD_CHF', 'AUD_HKD', 'NZD_CHF', 'AUD_CHF', 'GBP_CHF', 'USD_THB', 'GBP_CAD', 'EUR_HKD', 'CHF_JPY', 'GBP_HKD', 'EUR_NZD', 'AUD_SGD', 'EUR_JPY', 'EUR_TRY', 'USD_JPY', 'SGD_JPY', 'GBP_ZAR', 'ZAR_JPY', 'AUD_JPY', 'USD_ZAR', 'CAD_JPY', 'NZD_HKD', 'USD_CZK', 'USD_DKK', 'USD_SEK', 'GBP_SGD', 'EUR_DKK', 'CHF_ZAR', 'CAD_CHF', 'GBP_USD', 'USD_MXN', 'USD_HUF', 'USD_HKD', 'EUR_USD', 'EUR_CAD', 'AUD_CAD', 'GBP_PLN', 'EUR_PLN', 'GBP_NZD', 'EUR_HUF', 'EUR_NOK', 'CHF_HKD', 'EUR_GBP', 'AUD_NZD', 'CAD_SGD', 'EUR_CZK', 'NZD_JPY', 'USD_TRY', 'GBP_JPY', 'SGD_CHF', 'USD_CNH', 'USD_NOK', 'NZD_SGD', 'NZD_USD', 'USD_CAD', 'AUD_USD', 'HKD_JPY', 'EUR_SEK', 'USD_SGD'])"
      ]
     },
     "execution_count": 94,
     "metadata": {},
     "output_type": "execute_result"
    }
   ],
   "source": [
    "instruments_dict.keys()"
   ]
  },
  {
   "cell_type": "code",
   "execution_count": 95,
   "id": "5b5ce979-8ba1-41eb-b21b-25c44fa94aee",
   "metadata": {},
   "outputs": [
    {
     "name": "stdout",
     "output_type": "stream",
     "text": [
      "EUR_USD H1 4000 candles, 2022-12-08 07:00:00+00:00 2023-07-31 22:00:00+00:00\n",
      "EUR_USD H4 4000 candles, 2021-01-07 06:00:00+00:00 2023-07-31 17:00:00+00:00\n",
      "EUR_GBP H1 4000 candles, 2022-12-08 07:00:00+00:00 2023-07-31 22:00:00+00:00\n",
      "EUR_GBP H4 4000 candles, 2021-01-07 06:00:00+00:00 2023-07-31 17:00:00+00:00\n",
      "EUR_JPY H1 4000 candles, 2022-12-08 07:00:00+00:00 2023-07-31 22:00:00+00:00\n",
      "EUR_JPY H4 4000 candles, 2021-01-06 22:00:00+00:00 2023-07-31 17:00:00+00:00\n",
      "EUR_CHF H1 4000 candles, 2022-12-08 07:00:00+00:00 2023-07-31 22:00:00+00:00\n",
      "EUR_CHF H4 4000 candles, 2021-01-07 06:00:00+00:00 2023-07-31 17:00:00+00:00\n",
      "EUR_NZD H1 4000 candles, 2022-12-08 06:00:00+00:00 2023-07-31 22:00:00+00:00\n",
      "EUR_NZD H4 4000 candles, 2021-01-07 06:00:00+00:00 2023-07-31 17:00:00+00:00\n",
      "EUR_CAD H1 4000 candles, 2022-12-08 07:00:00+00:00 2023-07-31 22:00:00+00:00\n",
      "EUR_CAD H4 4000 candles, 2021-01-07 06:00:00+00:00 2023-07-31 17:00:00+00:00\n",
      "EUR_AUD H1 4000 candles, 2022-12-08 06:00:00+00:00 2023-07-31 22:00:00+00:00\n",
      "EUR_AUD H4 4000 candles, 2021-01-07 06:00:00+00:00 2023-07-31 17:00:00+00:00\n",
      "USD_JPY H1 4000 candles, 2022-12-08 07:00:00+00:00 2023-07-31 22:00:00+00:00\n",
      "USD_JPY H4 4000 candles, 2021-01-07 06:00:00+00:00 2023-07-31 17:00:00+00:00\n",
      "USD_CHF H1 4000 candles, 2022-12-08 07:00:00+00:00 2023-07-31 22:00:00+00:00\n",
      "USD_CHF H4 4000 candles, 2021-01-07 06:00:00+00:00 2023-07-31 17:00:00+00:00\n",
      "USD_CAD H1 4000 candles, 2022-12-08 07:00:00+00:00 2023-07-31 22:00:00+00:00\n",
      "USD_CAD H4 4000 candles, 2021-01-07 06:00:00+00:00 2023-07-31 17:00:00+00:00\n",
      "GBP_USD H1 4000 candles, 2022-12-08 07:00:00+00:00 2023-07-31 22:00:00+00:00\n",
      "GBP_USD H4 4000 candles, 2021-01-07 06:00:00+00:00 2023-07-31 17:00:00+00:00\n",
      "GBP_JPY H1 4000 candles, 2022-12-08 07:00:00+00:00 2023-07-31 22:00:00+00:00\n",
      "GBP_JPY H4 4000 candles, 2021-01-07 06:00:00+00:00 2023-07-31 17:00:00+00:00\n",
      "GBP_CHF H1 4000 candles, 2022-12-08 07:00:00+00:00 2023-07-31 22:00:00+00:00\n",
      "GBP_CHF H4 4000 candles, 2021-01-07 06:00:00+00:00 2023-07-31 17:00:00+00:00\n",
      "GBP_NZD H1 4000 candles, 2022-12-08 06:00:00+00:00 2023-07-31 22:00:00+00:00\n",
      "GBP_NZD H4 4000 candles, 2021-01-07 06:00:00+00:00 2023-07-31 17:00:00+00:00\n",
      "GBP_CAD H1 4000 candles, 2022-12-08 07:00:00+00:00 2023-07-31 22:00:00+00:00\n",
      "GBP_CAD H4 4000 candles, 2021-01-07 06:00:00+00:00 2023-07-31 17:00:00+00:00\n",
      "GBP_AUD H1 4000 candles, 2022-12-08 03:00:00+00:00 2023-07-31 22:00:00+00:00\n",
      "GBP_AUD H4 4000 candles, 2021-01-07 06:00:00+00:00 2023-07-31 17:00:00+00:00\n",
      "CHF_JPY H1 4000 candles, 2022-12-08 07:00:00+00:00 2023-07-31 22:00:00+00:00\n",
      "CHF_JPY H4 4000 candles, 2021-01-07 06:00:00+00:00 2023-07-31 17:00:00+00:00\n",
      "NZD_USD H1 4000 candles, 2022-12-08 10:00:00+00:00 2023-07-31 22:00:00+00:00\n",
      "NZD_USD H4 4000 candles, 2021-01-07 14:00:00+00:00 2023-07-31 17:00:00+00:00\n",
      "NZD_JPY H1 4000 candles, 2022-12-08 07:00:00+00:00 2023-07-31 22:00:00+00:00\n",
      "NZD_JPY H4 4000 candles, 2021-01-07 06:00:00+00:00 2023-07-31 17:00:00+00:00\n",
      "NZD_CHF H1 4000 candles, 2022-12-08 04:00:00+00:00 2023-07-31 22:00:00+00:00\n",
      "NZD_CHF H4 4000 candles, 2021-01-07 02:00:00+00:00 2023-07-31 17:00:00+00:00\n",
      "NZD_CAD H1 4000 candles, 2022-12-08 06:00:00+00:00 2023-07-31 22:00:00+00:00\n",
      "NZD_CAD H4 4000 candles, 2021-01-07 06:00:00+00:00 2023-07-31 17:00:00+00:00\n",
      "CAD_JPY H1 4000 candles, 2022-12-08 07:00:00+00:00 2023-07-31 22:00:00+00:00\n",
      "CAD_JPY H4 4000 candles, 2021-01-07 06:00:00+00:00 2023-07-31 17:00:00+00:00\n",
      "CAD_CHF H1 4000 candles, 2022-12-08 06:00:00+00:00 2023-07-31 22:00:00+00:00\n",
      "CAD_CHF H4 4000 candles, 2021-01-07 06:00:00+00:00 2023-07-31 17:00:00+00:00\n",
      "AUD_USD H1 4000 candles, 2022-12-08 07:00:00+00:00 2023-07-31 22:00:00+00:00\n",
      "AUD_USD H4 4000 candles, 2021-01-07 06:00:00+00:00 2023-07-31 17:00:00+00:00\n",
      "AUD_JPY H1 4000 candles, 2022-12-08 07:00:00+00:00 2023-07-31 22:00:00+00:00\n",
      "AUD_JPY H4 4000 candles, 2021-01-08 06:00:00+00:00 2023-07-31 17:00:00+00:00\n",
      "AUD_CHF H1 4000 candles, 2022-12-08 06:00:00+00:00 2023-07-31 22:00:00+00:00\n",
      "AUD_CHF H4 4000 candles, 2021-01-07 02:00:00+00:00 2023-07-31 17:00:00+00:00\n",
      "AUD_NZD H1 4000 candles, 2022-12-08 07:00:00+00:00 2023-07-31 22:00:00+00:00\n",
      "AUD_NZD H4 4000 candles, 2021-01-07 02:00:00+00:00 2023-07-31 17:00:00+00:00\n",
      "AUD_CAD H1 4000 candles, 2022-12-08 07:00:00+00:00 2023-07-31 22:00:00+00:00\n",
      "AUD_CAD H4 4000 candles, 2021-01-07 06:00:00+00:00 2023-07-31 17:00:00+00:00\n"
     ]
    }
   ],
   "source": [
    "for p1 in our_curr:\n",
    "    for p2 in our_curr:\n",
    "        pr = f\"{p1}_{p2}\"\n",
    "        if pr in instruments_dict:\n",
    "            for g in [\"H1\", \"H4\"]:\n",
    "                create_data_file(pr, count=4001, granularity=g)"
   ]
  },
  {
   "cell_type": "code",
   "execution_count": null,
   "id": "f4a6212b-2992-4398-af14-7fdabd3dc4c5",
   "metadata": {},
   "outputs": [],
   "source": []
  }
 ],
 "metadata": {
  "kernelspec": {
   "display_name": "Python 3 (ipykernel)",
   "language": "python",
   "name": "python3"
  },
  "language_info": {
   "codemirror_mode": {
    "name": "ipython",
    "version": 3
   },
   "file_extension": ".py",
   "mimetype": "text/x-python",
   "name": "python",
   "nbconvert_exporter": "python",
   "pygments_lexer": "ipython3",
   "version": "3.11.4"
  }
 },
 "nbformat": 4,
 "nbformat_minor": 5
}
